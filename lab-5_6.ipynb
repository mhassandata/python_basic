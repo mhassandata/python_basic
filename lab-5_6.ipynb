{
 "cells": [
  {
   "cell_type": "code",
   "execution_count": null,
   "id": "92024edf",
   "metadata": {
    "scrolled": true
   },
   "outputs": [],
   "source": [
    "i = 0\n",
    "while i<= 10:\n",
    "    print(i)\n",
    "    i+=1"
   ]
  },
  {
   "cell_type": "markdown",
   "id": "5f1500ea",
   "metadata": {},
   "source": [
    "Task 1: Write a program that asks the user about the number of values he/she wants to enter. Than enter the values as per the required number, calculate its sum and identify the smallest value among them."
   ]
  },
  {
   "cell_type": "code",
   "execution_count": null,
   "id": "d581f6a1",
   "metadata": {},
   "outputs": [],
   "source": [
    "nums = int(input(\"Enter the number of values to be input: \"))\n",
    "i = 0\n",
    "j = 0\n",
    "sumation, small = 0 , 10**100\n",
    "while i < nums:\n",
    "    num = int(input(\"Enter the number:\"))\n",
    "    if num<small:\n",
    "        small=num\n",
    "    sumation+=num\n",
    "    i+=1\n",
    "    \n",
    "print(\"The sum is :\", sumation)\n",
    "print(\"The smallest value of entered number is \", small)"
   ]
  },
  {
   "cell_type": "markdown",
   "id": "f1936c3b",
   "metadata": {},
   "source": [
    "Write a function factorial that accepts an integer as parameter and returns its factorial. \n",
    "Using the factorial function, write a program that evaluates the factorials of the integers from 1 to 5. Print the results in tabular format as following.\n"
   ]
  },
  {
   "cell_type": "code",
   "execution_count": null,
   "id": "5cb0c660",
   "metadata": {},
   "outputs": [],
   "source": [
    "n = 5\n",
    "i = 1\n",
    "fact = 1\n",
    "print(\"x\\tFactorial of the number x\\n\")\n",
    "while i <n:\n",
    "    if n>1:\n",
    "        fact*=i                        #fact = fact*i\n",
    "    print(i,\"\\t\", fact,sep=\"\")\n",
    "    i+=1"
   ]
  },
  {
   "cell_type": "markdown",
   "id": "0e460888",
   "metadata": {},
   "source": [
    "Task 3: Write a program that plays an incredibly stupid number-guessing game. The user will try to guess the secret number until they get it right. That means it will keep looping as long as the guess is different from the secret number. You must store the secret number in a variable, and use that variable throughout. The secret number itself must not appear in the program at all, except in the one line where you store it into a variable. Sample output is as following:"
   ]
  },
  {
   "cell_type": "code",
   "execution_count": 38,
   "id": "ebbb74a2",
   "metadata": {},
   "outputs": [
    {
     "name": "stdout",
     "output_type": "stream",
     "text": [
      "I have chosen a number between 1 and 10 try to guss it..\n",
      "Guess: 5\n",
      "That's right! You guessed it. \n"
     ]
    }
   ],
   "source": [
    "rand = 5\n",
    "guess = 11\n",
    "print(\"I have chosen a number between 1 and 10 try to guss it..\")\n",
    "while guess!=rand:\n",
    "    guess=int(input(\"Guess: \"))\n",
    "    if guess==rand:\n",
    "        print(\"That's right! You guessed it. \")\n",
    "    else:\n",
    "        print(\"That is incorrect Guess again\") "
   ]
  },
  {
   "cell_type": "markdown",
   "id": "75809581",
   "metadata": {},
   "source": [
    "Task 5: An integer is said to be prime if it is divisible only by 1 and itself. For example, 2, 3, 5 and 7 are prime, but 4, 6, 8 and 9 are not.\n",
    "a)\tWrite a function that determines if a number is prime.\n"
   ]
  },
  {
   "cell_type": "code",
   "execution_count": 11,
   "id": "cf21bd92",
   "metadata": {},
   "outputs": [
    {
     "name": "stdout",
     "output_type": "stream",
     "text": [
      "Enter the number:7\n",
      "7 is prime\n"
     ]
    }
   ],
   "source": [
    "num = int(input(\"Enter the number:\"))\n",
    "i = 2\n",
    "prime=True\n",
    "while i < num:\n",
    "    if num%i ==0:\n",
    "        prime=False\n",
    "        break\n",
    "    i+=1\n",
    "if prime:\n",
    "    print(num, \"is prime\")\n",
    "else:\n",
    "    print(num, \"is not prime\")"
   ]
  },
  {
   "cell_type": "code",
   "execution_count": 8,
   "id": "6b8a8f90",
   "metadata": {},
   "outputs": [
    {
     "name": "stdout",
     "output_type": "stream",
     "text": [
      "Enter the cost price of the bike: 60000\n",
      "Road tax to be paid: Rs. 18000.0\n"
     ]
    }
   ],
   "source": [
    "#cost_price = 190000\n",
    "if cost_price > 100000:\n",
    "    tax = cost_price * 0.15\n",
    "elif cost_price > 50000:\n",
    "    tax = cost_price * 0.1\n",
    "else :\n",
    "    tax = cost_price * 0.05\n",
    "cost_price = float(input(\"Enter the cost price of the bike: \"))\n",
    "print(\"Road tax to be paid: Rs.\", tax)"
   ]
  },
  {
   "cell_type": "markdown",
   "id": "1ce7f437",
   "metadata": {},
   "source": [
    "# For loop"
   ]
  },
  {
   "cell_type": "code",
   "execution_count": 13,
   "id": "e1d69e1d",
   "metadata": {},
   "outputs": [
    {
     "name": "stdout",
     "output_type": "stream",
     "text": [
      "0\n",
      "2\n",
      "4\n",
      "6\n",
      "8\n"
     ]
    }
   ],
   "source": [
    "for i in range(0, 10, 2):\n",
    "    print(i)"
   ]
  },
  {
   "cell_type": "code",
   "execution_count": 15,
   "id": "c524c8c0",
   "metadata": {},
   "outputs": [
    {
     "name": "stdout",
     "output_type": "stream",
     "text": [
      "0 Muhamamd Hassan\n",
      "1 Muhamamd Hassan\n",
      "2 Muhamamd Hassan\n",
      "3 Muhamamd Hassan\n",
      "4 Muhamamd Hassan\n",
      "5 Muhamamd Hassan\n",
      "6 Muhamamd Hassan\n",
      "7 Muhamamd Hassan\n",
      "8 Muhamamd Hassan\n",
      "9 Muhamamd Hassan\n"
     ]
    }
   ],
   "source": [
    "for i in range(10):\n",
    "    print(i, \"Muhamamd Hassan\")"
   ]
  },
  {
   "cell_type": "code",
   "execution_count": 26,
   "id": "484f4009",
   "metadata": {},
   "outputs": [
    {
     "name": "stdout",
     "output_type": "stream",
     "text": [
      "Number\t\tSquare\t\tCube\n",
      "1 \t\t 1 \t\t 1\n",
      "2 \t\t 4 \t\t 8\n",
      "3 \t\t 9 \t\t 27\n",
      "4 \t\t 16 \t\t 64\n",
      "5 \t\t 25 \t\t 125\n",
      "6 \t\t 36 \t\t 216\n",
      "7 \t\t 49 \t\t 343\n",
      "8 \t\t 64 \t\t 512\n",
      "9 \t\t 81 \t\t 729\n",
      "10 \t\t 100 \t\t 1000\n",
      "11 \t\t 121 \t\t 1331\n",
      "12 \t\t 144 \t\t 1728\n",
      "13 \t\t 169 \t\t 2197\n",
      "14 \t\t 196 \t\t 2744\n",
      "15 \t\t 225 \t\t 3375\n",
      "16 \t\t 256 \t\t 4096\n",
      "17 \t\t 289 \t\t 4913\n",
      "18 \t\t 324 \t\t 5832\n",
      "19 \t\t 361 \t\t 6859\n",
      "20 \t\t 400 \t\t 8000\n"
     ]
    }
   ],
   "source": [
    "print(\"Number\\t\\tSquare\\t\\tCube\")\n",
    "for i in range(1,21):\n",
    "    print(i, \"\\t\\t\",i**2,\"\\t\\t\", i**3)"
   ]
  },
  {
   "cell_type": "markdown",
   "id": "3829bcb0",
   "metadata": {},
   "source": [
    "\n",
    "Task 3: Write a program that uses a for loop to print the numbers 8, 11, 14, 17, 20, . . . , 83, 86, 89.\n"
   ]
  },
  {
   "cell_type": "code",
   "execution_count": 29,
   "id": "c53eaeed",
   "metadata": {},
   "outputs": [
    {
     "name": "stdout",
     "output_type": "stream",
     "text": [
      "8 11 14 17 20 23 26 29 32 35 38 41 44 47 50 53 56 59 62 65 68 71 74 77 80 83 86 89 "
     ]
    }
   ],
   "source": [
    "for i in range(8, 90, 3):\n",
    "    print(i, end=\" \")"
   ]
  },
  {
   "cell_type": "markdown",
   "id": "658ad9d2",
   "metadata": {},
   "source": [
    "Task 4: Write a program that asks the user for their name and how many times to print it. The program should print out the user’s name the specified number of times."
   ]
  },
  {
   "cell_type": "code",
   "execution_count": 31,
   "id": "82787864",
   "metadata": {},
   "outputs": [
    {
     "name": "stdout",
     "output_type": "stream",
     "text": [
      "Enter you name: hassan\n",
      "How many time to print.5\n",
      "hassan\n",
      "hassan\n",
      "hassan\n",
      "hassan\n",
      "hassan\n"
     ]
    }
   ],
   "source": [
    "name = input(\"Enter you name: \")\n",
    "n = int(input(\"How many time to print.\"))\n",
    "for i in range(n):\n",
    "    print(name)"
   ]
  },
  {
   "cell_type": "code",
   "execution_count": 37,
   "id": "f707679c",
   "metadata": {},
   "outputs": [
    {
     "name": "stdout",
     "output_type": "stream",
     "text": [
      "Enter the height: 4\n",
      "*\n",
      "**\n",
      "***\n",
      "****\n"
     ]
    }
   ],
   "source": [
    "height = int(input(\"Enter the height: \"))\n",
    "for i in range(height):\n",
    "    print(\"*\"*(i+1))"
   ]
  },
  {
   "cell_type": "code",
   "execution_count": null,
   "id": "9fbea35f",
   "metadata": {},
   "outputs": [],
   "source": []
  }
 ],
 "metadata": {
  "kernelspec": {
   "display_name": "Python 3 (ipykernel)",
   "language": "python",
   "name": "python3"
  },
  "language_info": {
   "codemirror_mode": {
    "name": "ipython",
    "version": 3
   },
   "file_extension": ".py",
   "mimetype": "text/x-python",
   "name": "python",
   "nbconvert_exporter": "python",
   "pygments_lexer": "ipython3",
   "version": "3.9.13"
  }
 },
 "nbformat": 4,
 "nbformat_minor": 5
}
